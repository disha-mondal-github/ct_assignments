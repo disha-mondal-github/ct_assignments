{
 "cells": [
  {
   "cell_type": "markdown",
   "id": "6e9854d9",
   "metadata": {},
   "source": [
    "# Model Evaluation and Hyperparameter Tuning\n",
    "In this notebook, I'll do the following for this week's assignment:\n",
    "- Train multiple ML models\n",
    "- Evaluate them using accuracy, precision, recall, and F1-score\n",
    "- Use GridSearchCV and RandomizedSearchCV for hyperparameter tuning\n",
    "- Select the best performing model"
   ]
  },
  {
   "cell_type": "code",
   "execution_count": 1,
   "id": "89aeb60a",
   "metadata": {},
   "outputs": [],
   "source": [
    "import pandas as pd\n",
    "import numpy as np\n",
    "from sklearn.model_selection import train_test_split, GridSearchCV, RandomizedSearchCV\n",
    "from sklearn.metrics import accuracy_score, precision_score, recall_score, f1_score\n",
    "from sklearn.linear_model import LogisticRegression\n",
    "from sklearn.ensemble import RandomForestClassifier\n",
    "from sklearn.svm import SVC\n",
    "from sklearn.neighbors import KNeighborsClassifier"
   ]
  },
  {
   "cell_type": "markdown",
   "id": "b4ea8d42",
   "metadata": {},
   "source": [
    "## Load and Prepare Dataset\n",
    "I'm using the Breast Cancer dataset from `sklearn.datasets`."
   ]
  },
  {
   "cell_type": "code",
   "execution_count": 2,
   "id": "5cfdfd96",
   "metadata": {},
   "outputs": [],
   "source": [
    "from sklearn.datasets import load_breast_cancer\n",
    "data = load_breast_cancer()\n",
    "X = pd.DataFrame(data.data, columns=data.feature_names)\n",
    "y = pd.Series(data.target)\n",
    "X_train, X_test, y_train, y_test = train_test_split(X, y, test_size=0.2, random_state=42)"
   ]
  },
  {
   "cell_type": "markdown",
   "id": "c2d8bc93",
   "metadata": {},
   "source": [
    "## Train and Evaluate Multiple Models"
   ]
  },
  {
   "cell_type": "code",
   "execution_count": 3,
   "id": "e48f8eea",
   "metadata": {},
   "outputs": [
    {
     "name": "stderr",
     "output_type": "stream",
     "text": [
      "D:\\anaconda_new\\envs\\mindDigit\\Lib\\site-packages\\sklearn\\linear_model\\_logistic.py:465: ConvergenceWarning: lbfgs failed to converge (status=1):\n",
      "STOP: TOTAL NO. of ITERATIONS REACHED LIMIT.\n",
      "\n",
      "Increase the number of iterations (max_iter) or scale the data as shown in:\n",
      "    https://scikit-learn.org/stable/modules/preprocessing.html\n",
      "Please also refer to the documentation for alternative solver options:\n",
      "    https://scikit-learn.org/stable/modules/linear_model.html#logistic-regression\n",
      "  n_iter_i = _check_optimize_result(\n"
     ]
    },
    {
     "data": {
      "text/html": [
       "<div>\n",
       "<style scoped>\n",
       "    .dataframe tbody tr th:only-of-type {\n",
       "        vertical-align: middle;\n",
       "    }\n",
       "\n",
       "    .dataframe tbody tr th {\n",
       "        vertical-align: top;\n",
       "    }\n",
       "\n",
       "    .dataframe thead th {\n",
       "        text-align: right;\n",
       "    }\n",
       "</style>\n",
       "<table border=\"1\" class=\"dataframe\">\n",
       "  <thead>\n",
       "    <tr style=\"text-align: right;\">\n",
       "      <th></th>\n",
       "      <th>Accuracy</th>\n",
       "      <th>Precision</th>\n",
       "      <th>Recall</th>\n",
       "      <th>F1 Score</th>\n",
       "    </tr>\n",
       "  </thead>\n",
       "  <tbody>\n",
       "    <tr>\n",
       "      <th>Logistic Regression</th>\n",
       "      <td>0.956140</td>\n",
       "      <td>0.945946</td>\n",
       "      <td>0.985915</td>\n",
       "      <td>0.965517</td>\n",
       "    </tr>\n",
       "    <tr>\n",
       "      <th>Random Forest</th>\n",
       "      <td>0.964912</td>\n",
       "      <td>0.958904</td>\n",
       "      <td>0.985915</td>\n",
       "      <td>0.972222</td>\n",
       "    </tr>\n",
       "    <tr>\n",
       "      <th>Support Vector Machine</th>\n",
       "      <td>0.947368</td>\n",
       "      <td>0.922078</td>\n",
       "      <td>1.000000</td>\n",
       "      <td>0.959459</td>\n",
       "    </tr>\n",
       "    <tr>\n",
       "      <th>K-Nearest Neighbors</th>\n",
       "      <td>0.956140</td>\n",
       "      <td>0.934211</td>\n",
       "      <td>1.000000</td>\n",
       "      <td>0.965986</td>\n",
       "    </tr>\n",
       "  </tbody>\n",
       "</table>\n",
       "</div>"
      ],
      "text/plain": [
       "                        Accuracy  Precision    Recall  F1 Score\n",
       "Logistic Regression     0.956140   0.945946  0.985915  0.965517\n",
       "Random Forest           0.964912   0.958904  0.985915  0.972222\n",
       "Support Vector Machine  0.947368   0.922078  1.000000  0.959459\n",
       "K-Nearest Neighbors     0.956140   0.934211  1.000000  0.965986"
      ]
     },
     "execution_count": 3,
     "metadata": {},
     "output_type": "execute_result"
    }
   ],
   "source": [
    "models = {\n",
    "    \"Logistic Regression\": LogisticRegression(max_iter=1000),\n",
    "    \"Random Forest\": RandomForestClassifier(),\n",
    "    \"Support Vector Machine\": SVC(),\n",
    "    \"K-Nearest Neighbors\": KNeighborsClassifier()\n",
    "}\n",
    "results = {}\n",
    "for name, model in models.items():\n",
    "    model.fit(X_train, y_train)\n",
    "    y_pred = model.predict(X_test)\n",
    "    results[name] = {\n",
    "        \"Accuracy\": accuracy_score(y_test, y_pred),\n",
    "        \"Precision\": precision_score(y_test, y_pred),\n",
    "        \"Recall\": recall_score(y_test, y_pred),\n",
    "        \"F1 Score\": f1_score(y_test, y_pred)\n",
    "    }\n",
    "results_df = pd.DataFrame(results).T\n",
    "results_df"
   ]
  },
  {
   "cell_type": "markdown",
   "id": "7844c747",
   "metadata": {},
   "source": [
    "## Hyperparameter Tuning\n",
    "Now I'll tune:\n",
    "- **Random Forest** using `GridSearchCV`\n",
    "- **SVM** using `RandomizedSearchCV`"
   ]
  },
  {
   "cell_type": "code",
   "execution_count": 4,
   "id": "2add506d",
   "metadata": {},
   "outputs": [
    {
     "name": "stdout",
     "output_type": "stream",
     "text": [
      "Best RF Params: {'max_depth': None, 'min_samples_split': 2, 'n_estimators': 200}\n",
      "Best RF F1 Score (CV): 0.9739085224112447\n"
     ]
    }
   ],
   "source": [
    "param_grid_rf = {\n",
    "    'n_estimators': [50, 100, 200],\n",
    "    'max_depth': [None, 10, 20],\n",
    "    'min_samples_split': [2, 5, 10]\n",
    "}\n",
    "grid_rf = GridSearchCV(RandomForestClassifier(), param_grid_rf, cv=5, scoring='f1', n_jobs=-1)\n",
    "grid_rf.fit(X_train, y_train)\n",
    "print(\"Best RF Params:\", grid_rf.best_params_)\n",
    "print(\"Best RF F1 Score (CV):\", grid_rf.best_score_)"
   ]
  },
  {
   "cell_type": "code",
   "execution_count": 5,
   "id": "42363057",
   "metadata": {},
   "outputs": [
    {
     "name": "stdout",
     "output_type": "stream",
     "text": [
      "Best SVM Params: {'C': 3.1461376917337067, 'gamma': 'scale', 'kernel': 'linear'}\n",
      "Best SVM F1 Score (CV): 0.9672532829401763\n"
     ]
    }
   ],
   "source": [
    "from scipy.stats import uniform\n",
    "param_dist_svm = {\n",
    "    'C': uniform(0.1, 10),\n",
    "    'gamma': ['scale', 'auto'],\n",
    "    'kernel': ['rbf', 'linear']\n",
    "}\n",
    "random_search_svm = RandomizedSearchCV(SVC(), param_distributions=param_dist_svm, \n",
    "                                       n_iter=20, cv=5, scoring='f1', random_state=42, n_jobs=-1)\n",
    "random_search_svm.fit(X_train, y_train)\n",
    "print(\"Best SVM Params:\", random_search_svm.best_params_)\n",
    "print(\"Best SVM F1 Score (CV):\", random_search_svm.best_score_)"
   ]
  },
  {
   "cell_type": "markdown",
   "id": "a5a197ab",
   "metadata": {},
   "source": [
    "## Evaluate Tuned Models"
   ]
  },
  {
   "cell_type": "code",
   "execution_count": 6,
   "id": "938838fc",
   "metadata": {},
   "outputs": [
    {
     "data": {
      "text/html": [
       "<div>\n",
       "<style scoped>\n",
       "    .dataframe tbody tr th:only-of-type {\n",
       "        vertical-align: middle;\n",
       "    }\n",
       "\n",
       "    .dataframe tbody tr th {\n",
       "        vertical-align: top;\n",
       "    }\n",
       "\n",
       "    .dataframe thead th {\n",
       "        text-align: right;\n",
       "    }\n",
       "</style>\n",
       "<table border=\"1\" class=\"dataframe\">\n",
       "  <thead>\n",
       "    <tr style=\"text-align: right;\">\n",
       "      <th></th>\n",
       "      <th>Accuracy</th>\n",
       "      <th>Precision</th>\n",
       "      <th>Recall</th>\n",
       "      <th>F1 Score</th>\n",
       "    </tr>\n",
       "  </thead>\n",
       "  <tbody>\n",
       "    <tr>\n",
       "      <th>Tuned Random Forest</th>\n",
       "      <td>0.964912</td>\n",
       "      <td>0.958904</td>\n",
       "      <td>0.985915</td>\n",
       "      <td>0.972222</td>\n",
       "    </tr>\n",
       "    <tr>\n",
       "      <th>Tuned SVM</th>\n",
       "      <td>0.956140</td>\n",
       "      <td>0.945946</td>\n",
       "      <td>0.985915</td>\n",
       "      <td>0.965517</td>\n",
       "    </tr>\n",
       "  </tbody>\n",
       "</table>\n",
       "</div>"
      ],
      "text/plain": [
       "                     Accuracy  Precision    Recall  F1 Score\n",
       "Tuned Random Forest  0.964912   0.958904  0.985915  0.972222\n",
       "Tuned SVM            0.956140   0.945946  0.985915  0.965517"
      ]
     },
     "execution_count": 6,
     "metadata": {},
     "output_type": "execute_result"
    }
   ],
   "source": [
    "best_rf = grid_rf.best_estimator_\n",
    "y_pred_rf = best_rf.predict(X_test)\n",
    "\n",
    "best_svm = random_search_svm.best_estimator_\n",
    "y_pred_svm = best_svm.predict(X_test)\n",
    "\n",
    "final_results = {\n",
    "    \"Tuned Random Forest\": {\n",
    "        \"Accuracy\": accuracy_score(y_test, y_pred_rf),\n",
    "        \"Precision\": precision_score(y_test, y_pred_rf),\n",
    "        \"Recall\": recall_score(y_test, y_pred_rf),\n",
    "        \"F1 Score\": f1_score(y_test, y_pred_rf)\n",
    "    },\n",
    "    \"Tuned SVM\": {\n",
    "        \"Accuracy\": accuracy_score(y_test, y_pred_svm),\n",
    "        \"Precision\": precision_score(y_test, y_pred_svm),\n",
    "        \"Recall\": recall_score(y_test, y_pred_svm),\n",
    "        \"F1 Score\": f1_score(y_test, y_pred_svm)\n",
    "    }\n",
    "}\n",
    "final_results_df = pd.DataFrame(final_results).T\n",
    "final_results_df"
   ]
  },
  {
   "cell_type": "markdown",
   "id": "d30fdc17",
   "metadata": {},
   "source": [
    "## Conclusion\n",
    "\n",
    "* **Random Forest** (both default and tuned) consistently delivers the **best F1 Score (0.972)**, which is crucial when balancing precision and recall.\n",
    "* **SVM has perfect recall**, but its **lower precision** makes it less reliable if false positives matter.\n",
    "* **Tuning SVM did not outperform the tuned Random Forest.**\n",
    "\n",
    "### **Best Model Recommendation:**\n",
    "\n",
    "> **Tuned Random Forest Classifier**\n",
    "> Excellent overall metrics and consistent high performance across all categories.\n"
   ]
  },
  {
   "cell_type": "code",
   "execution_count": null,
   "id": "d3dd5ead-5cb7-4e44-a09d-ffac029c054e",
   "metadata": {},
   "outputs": [],
   "source": []
  }
 ],
 "metadata": {
  "kernelspec": {
   "display_name": "Python 3 (ipykernel)",
   "language": "python",
   "name": "python3"
  },
  "language_info": {
   "codemirror_mode": {
    "name": "ipython",
    "version": 3
   },
   "file_extension": ".py",
   "mimetype": "text/x-python",
   "name": "python",
   "nbconvert_exporter": "python",
   "pygments_lexer": "ipython3",
   "version": "3.11.11"
  }
 },
 "nbformat": 4,
 "nbformat_minor": 5
}
